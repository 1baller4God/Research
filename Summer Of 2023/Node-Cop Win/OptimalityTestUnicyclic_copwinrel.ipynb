{
 "cells": [
  {
   "cell_type": "code",
   "execution_count": 8,
   "metadata": {},
   "outputs": [],
   "source": [
    "def is_corner(G,v):\n",
    "    V = G.vertices();\n",
    "    N = set(G.neighbors(v,closed=True));\n",
    "    for u in V:\n",
    "        if u != v:\n",
    "            M = set(G.neighbors(u,closed=True));\n",
    "            if N.issubset(M):\n",
    "                return True\n",
    "    return False"
   ]
  },
  {
   "cell_type": "code",
   "execution_count": 9,
   "metadata": {},
   "outputs": [],
   "source": [
    "def is_copwin(G):\n",
    "    H = Graph(G);\n",
    "    V = H.vertices();\n",
    "    n = len(V);\n",
    "    if n == 1:\n",
    "        return True\n",
    "    for u in V:\n",
    "        if is_corner(H,u):\n",
    "            H.delete_vertex(u);\n",
    "            return is_copwin(H)\n",
    "    return False"
   ]
  },
  {
   "cell_type": "code",
   "execution_count": 10,
   "metadata": {},
   "outputs": [],
   "source": [
    "def CRel(G,p):\n",
    "    P = 0\n",
    "    E = G.edges()\n",
    "    m = len(E)\n",
    "    C = Combinations(E).list()\n",
    "    for U in C:\n",
    "        H = G.subgraph(edges=U)\n",
    "        if is_copwin(H):\n",
    "            k = len(H.edges())\n",
    "            P += p^k*(1-p)^(m-k)\n",
    "    return P"
   ]
  },
  {
   "cell_type": "code",
   "execution_count": 14,
   "metadata": {},
   "outputs": [],
   "source": [
    "f = open(\"graph_data/unicyclic5.g6\",\"r\");\n",
    "g = open(\"graph_data/CRelUnicyclic5.txt\",\"w\");"
   ]
  },
  {
   "cell_type": "code",
   "execution_count": 16,
   "metadata": {
    "scrolled": true
   },
   "outputs": [
    {
     "name": "stdout",
     "output_type": "stream",
     "text": [
      "More investigation required:\n",
      "-3*(x - 1)*x^4 + x^5\n",
      "Root index 1\n",
      "-5*(x - 1)*x^4\n",
      "Max Index 5\n"
     ]
    }
   ],
   "source": [
    "x = SR.var('x'); #needed for converting string back to polynomial in second loop\n",
    "m = -1; #initialize the max value at 1/2\n",
    "noOptimal = False;\n",
    "index = 0; #keeps track of where in the file we are\n",
    "for line in f.readlines():\n",
    "    index += 1;\n",
    "    G = Graph(line);\n",
    "    N = CRel(G,x);\n",
    "    val = N(1/2);\n",
    "    if val > m: # if we find a larger rel at 1/2 update the variables accordingly\n",
    "        m = val;\n",
    "        maxGraph = G;\n",
    "        maxRel = N;\n",
    "        maxIndex = index;\n",
    "    g.write(str(N)+'\\r\\n'); #write the polynomial to a file so we don't have to compute them again when checking if the max at 1/2 is a the max\n",
    "    \n",
    "g = open(\"graph_data/CRelUnicyclic5.txt\",\"r\");\n",
    "index = 0; #reset index counter\n",
    "for line in g.readlines():  #loop covers all other NCRels to see if there are any crossings in the interval (0,1)\n",
    "    index+=1;\n",
    "    if index != maxIndex:\n",
    "        N = SR(line); #converts string back to a polynomial in the symbolic ring\n",
    "        diff = N - maxRel;\n",
    "        rts = diff.roots(multiplicities=False,ring=RDF); #solves for real roots of the difference polynomial\n",
    "        for r in rts:\n",
    "            if 0<r<0.9999999999: #error occurs so can't use 1, hoping this is enough of a buffer\n",
    "                noOptimal = True;\n",
    "                break;\n",
    "        if noOptimal:\n",
    "             break;\n",
    "if noOptimal == False:\n",
    "    maxGraph.show()\n",
    "    print(maxRel)\n",
    "else:\n",
    "    print('More investigation required:')\n",
    "    print(N)\n",
    "    print('Root index',index)\n",
    "    print(maxRel)\n",
    "    print('Max Index',maxIndex)"
   ]
  },
  {
   "cell_type": "code",
   "execution_count": 17,
   "metadata": {},
   "outputs": [
    {
     "data": {
      "text/plain": [
       "[0.0, 0.6666666666666666]"
      ]
     },
     "execution_count": 17,
     "metadata": {},
     "output_type": "execute_result"
    }
   ],
   "source": [
    "diff = N - maxRel;\n",
    "rts = diff.roots(multiplicities=False,ring=RDF);\n",
    "rts"
   ]
  },
  {
   "cell_type": "code",
   "execution_count": 20,
   "metadata": {},
   "outputs": [],
   "source": [
    "f = open(\"graph_data/unicyclic4.g6\",\"r\");\n",
    "g = open(\"graph_data/CRelUnicyclic4.txt\",\"w\");"
   ]
  },
  {
   "cell_type": "code",
   "execution_count": 21,
   "metadata": {},
   "outputs": [
    {
     "data": {
      "image/png": "[encoded data removed]",
      "text/plain": [
       "Graphics object consisting of 9 graphics primitives"
      ]
     },
     "metadata": {},
     "output_type": "display_data"
    },
    {
     "name": "stdout",
     "output_type": "stream",
     "text": [
      "-3*(x - 1)*x^3 + x^4\n"
     ]
    }
   ],
   "source": [
    "x = SR.var('x'); #needed for converting string back to polynomial in second loop\n",
    "m = -1; #initialize the max value at 1/2\n",
    "noOptimal = False;\n",
    "index = 0; #keeps track of where in the file we are\n",
    "for line in f.readlines():\n",
    "    index += 1;\n",
    "    G = Graph(line);\n",
    "    N = CRel(G,x);\n",
    "    val = N(1/2);\n",
    "    if val > m: # if we find a larger rel at 1/2 update the variables accordingly\n",
    "        m = val;\n",
    "        maxGraph = G;\n",
    "        maxRel = N;\n",
    "        maxIndex = index;\n",
    "    g.write(str(N)+'\\r\\n'); #write the polynomial to a file so we don't have to compute them again when checking if the max at 1/2 is a the max\n",
    "    \n",
    "g = open(\"graph_data/CRelUnicyclic5.txt\",\"r\");\n",
    "index = 0; #reset index counter\n",
    "for line in g.readlines():  #loop covers all other NCRels to see if there are any crossings in the interval (0,1)\n",
    "    index+=1;\n",
    "    if index != maxIndex:\n",
    "        N = SR(line); #converts string back to a polynomial in the symbolic ring\n",
    "        diff = N - maxRel;\n",
    "        rts = diff.roots(multiplicities=False,ring=RDF); #solves for real roots of the difference polynomial\n",
    "        for r in rts:\n",
    "            if 0<r<0.9999999999: #error occurs so can't use 1, hoping this is enough of a buffer\n",
    "                noOptimal = True;\n",
    "                break;\n",
    "        if noOptimal:\n",
    "             break;\n",
    "if noOptimal == False:\n",
    "    maxGraph.show()\n",
    "    print(maxRel)\n",
    "else:\n",
    "    print('More investigation required:')\n",
    "    print(N)\n",
    "    print('Root index',index)\n",
    "    print(maxRel)\n",
    "    print('Max Index',maxIndex)"
   ]
  },
  {
   "cell_type": "code",
   "execution_count": null,
   "metadata": {},
   "outputs": [],
   "source": []
  },
  {
   "cell_type": "code",
   "execution_count": 22,
   "metadata": {},
   "outputs": [
    {
     "name": "stdout",
     "output_type": "stream",
     "text": [
      "More investigation required:\n",
      "-3*(x - 1)*x^5 + x^6\n",
      "Root index 1\n",
      "-6*(x - 1)*x^5\n",
      "Max Index 13\n"
     ]
    }
   ],
   "source": [
    "f = open(\"graph_data/unicyclic6.g6\",\"r\");\n",
    "g = open(\"graph_data/CRelUnicyclic6.txt\",\"w\");\n",
    "\n",
    "x = SR.var('x'); #needed for converting string back to polynomial in second loop\n",
    "m = -1; #initialize the max value at 1/2\n",
    "noOptimal = False;\n",
    "index = 0; #keeps track of where in the file we are\n",
    "for line in f.readlines():\n",
    "    index += 1;\n",
    "    G = Graph(line);\n",
    "    N = CRel(G,x);\n",
    "    val = N(1/2);\n",
    "    if val > m: # if we find a larger rel at 1/2 update the variables accordingly\n",
    "        m = val;\n",
    "        maxGraph = G;\n",
    "        maxRel = N;\n",
    "        maxIndex = index;\n",
    "    g.write(str(N)+'\\r\\n'); #write the polynomial to a file so we don't have to compute them again when checking if the max at 1/2 is a the max\n",
    "    \n",
    "g = open(\"graph_data/CRelUnicyclic6.txt\",\"r\");\n",
    "index = 0; #reset index counter\n",
    "for line in g.readlines():  #loop covers all other NCRels to see if there are any crossings in the interval (0,1)\n",
    "    index+=1;\n",
    "    if index != maxIndex:\n",
    "        N = SR(line); #converts string back to a polynomial in the symbolic ring\n",
    "        diff = N - maxRel;\n",
    "        rts = diff.roots(multiplicities=False,ring=RDF); #solves for real roots of the difference polynomial\n",
    "        for r in rts:\n",
    "            if 0<r<0.9999999999: #error occurs so can't use 1, hoping this is enough of a buffer\n",
    "                noOptimal = True;\n",
    "                break;\n",
    "        if noOptimal:\n",
    "             break;\n",
    "if noOptimal == False:\n",
    "    maxGraph.show()\n",
    "    print(maxRel)\n",
    "else:\n",
    "    print('More investigation required:')\n",
    "    print(N)\n",
    "    print('Root index',index)\n",
    "    print(maxRel)\n",
    "    print('Max Index',maxIndex)"
   ]
  },
  {
   "cell_type": "code",
   "execution_count": null,
   "metadata": {},
   "outputs": [],
   "source": []
  }
 ],
 "metadata": {
  "kernelspec": {
   "display_name": "SageMath 9.5",
   "language": "sage",
   "name": "sagemath"
  },
  "language_info": {
   "codemirror_mode": {
    "name": "ipython",
    "version": 3
   },
   "file_extension": ".py",
   "mimetype": "text/x-python",
   "name": "python",
   "nbconvert_exporter": "python",
   "pygments_lexer": "ipython3",
   "version": "3.10.6"
  }
 },
 "nbformat": 4,
 "nbformat_minor": 2
}
