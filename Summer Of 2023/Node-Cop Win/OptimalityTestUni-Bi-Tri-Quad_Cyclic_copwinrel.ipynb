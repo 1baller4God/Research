{
 "cells": [
  {
   "cell_type": "code",
   "execution_count": 2,
   "metadata": {},
   "outputs": [],
   "source": [
    "# Takes a graph G and one of its vertices and indicates if v is a corner in G.\n",
    "# A corner is a vertex whose closed neighbourhood is contained in that of another vertex (robber can be ``cornered'')\n",
    "def is_corner(G,v):\n",
    "    V = G.vertices();\n",
    "    N = set(G.neighbors(v,closed=True));\n",
    "    for u in V:\n",
    "        if u != v:\n",
    "            M = set(G.neighbors(u,closed=True));\n",
    "            if N.issubset(M):\n",
    "                return True\n",
    "    return False\n",
    "\n",
    "# Indicates if a graph is cop-win by iteratively removing corners\n",
    "def is_copwin(G):\n",
    "    H = Graph(G);\n",
    "    V = H.vertices();\n",
    "    n = len(V);\n",
    "    if n == 1:\n",
    "        return True\n",
    "    for u in V:\n",
    "        if is_corner(H,u):\n",
    "            H.delete_vertex(u);\n",
    "            return is_copwin(H)\n",
    "    return False\n",
    "\n",
    "# Takes a graph G and a probability (or variable) p and returns the propability that the graph\n",
    "# is cop-win if each edge fails independently with probability p.\n",
    "# We call this the ``cop-win reliability''\n",
    "def CRel(G,p):\n",
    "    P = 0\n",
    "    E = G.edges()\n",
    "    m = len(E)\n",
    "    C = Combinations(E).list()\n",
    "    for U in C:\n",
    "        H = G.subgraph(edges=U)\n",
    "        if is_copwin(H):\n",
    "            k = len(H.edges())\n",
    "            P += p^k*(1-p)^(m-k)\n",
    "    return P\n",
    "\n",
    "# takes two file destinations, the first a string with a file destination and iterates through all graphs in the file (file must have graphs line-by-line in graph6)\n",
    "# the function will compute the cop-win reliability of each graph and write it to the second file string parameter \n",
    "# the function will also determine which graph has largest cop-win reliability at p=0.5 and then checks every other\n",
    "# cop-win reliability against this for roots in (0,1) (well, pretty close to 1).\n",
    "#\n",
    "# NOTE: files must be opened using with open(filename)\n",
    "#\n",
    "def OptimalityChecker(f_string, g_string):\n",
    "    f = open(f_string, \"r\")\n",
    "    g = open(g_string, \"w\")\n",
    "    \n",
    "    x = SR.var('x'); #needed for converting string back to polynomial in second loop\n",
    "    m = -1; #initialize the max value at 1/2\n",
    "    noOptimal = False;\n",
    "    index = 0; #keeps track of where in the file we are\n",
    "    for line in f:\n",
    "        index += 1\n",
    "        G = Graph(line)\n",
    "        N = CRel(G,x)\n",
    "        val = N.subs(x=1/2)\n",
    "        if val > m: # if we find a larger rel at 1/2 update the variables accordingly\n",
    "            m = val\n",
    "            maxGraph = G\n",
    "            maxRel = N\n",
    "            maxIndex = index\n",
    "        g.write(str(N)+'\\r\\n') #write the polynomial to a file so we don't have to compute them again when checking if the max at 1/2 is a the max\n",
    "\n",
    "    g = open(g_string, \"r\")    \n",
    "    index = 0; #reset index counter\n",
    "    for line in g:  #loop covers all other NCRels to see if there are any crossings in the interval (0,1)\n",
    "        index+=1;\n",
    "        if index != maxIndex:\n",
    "            N = SR(line); #converts string back to a polynomial in the symbolic ring\n",
    "            diff = N - maxRel;\n",
    "            rts = diff.roots(multiplicities=False,ring=RDF); #solves for real roots of the difference polynomial\n",
    "            for r in rts:\n",
    "                if 0<r<0.9999999999: #error occurs so can't use 1, hoping this is enough of a buffer\n",
    "                    noOptimal = True;\n",
    "                    break;\n",
    "            if noOptimal:\n",
    "                 break;\n",
    "    if noOptimal == False:\n",
    "        maxGraph.show()\n",
    "        print(maxRel)\n",
    "    else:\n",
    "        print('More investigation required:')\n",
    "        print(N)\n",
    "        print('Root index',index)\n",
    "        print(maxRel)\n",
    "        print('Max Index',maxIndex)"
   ]
  },
  {
   "cell_type": "code",
   "execution_count": 3,
   "metadata": {},
   "outputs": [
    {
     "name": "stdout",
     "output_type": "stream",
     "text": [
      "More investigation required:\n",
      "-4*(x - 1)*x^3\n",
      "Root index 2\n",
      "-3*(x - 1)*x^3 + x^4\n",
      "Max Index 1\n"
     ]
    }
   ],
   "source": [
    "OptimalityChecker(\"graph_data/unicyclic4.g6\", \"graph_data/CRelUnicyclic4.txt\")"
   ]
  },
  {
   "cell_type": "code",
   "execution_count": 5,
   "metadata": {},
   "outputs": [
    {
     "name": "stdout",
     "output_type": "stream",
     "text": [
      "More investigation required:\n",
      "-3*(x - 1)*x^4 + x^5\n",
      "Root index 1\n",
      "-5*(x - 1)*x^4\n",
      "Max Index 5\n"
     ]
    }
   ],
   "source": [
    "OptimalityChecker(\"graph_data/unicyclic5.g6\", \"graph_data/CRelUnicyclic5.txt\")"
   ]
  },
  {
   "cell_type": "code",
   "execution_count": 4,
   "metadata": {},
   "outputs": [
    {
     "name": "stdout",
     "output_type": "stream",
     "text": [
      "More investigation required:\n",
      "-3*(x - 1)*x^5 + x^6\n",
      "Root index 1\n",
      "-6*(x - 1)*x^5\n",
      "Max Index 13\n"
     ]
    }
   ],
   "source": [
    "OptimalityChecker(\"graph_data/unicyclic6.g6\", \"graph_data/CRelUnicyclic6.txt\")"
   ]
  },
  {
   "cell_type": "code",
   "execution_count": 5,
   "metadata": {},
   "outputs": [
    {
     "name": "stdout",
     "output_type": "stream",
     "text": [
      "More investigation required:\n",
      "-3*(x - 1)*x^6 + x^7\n",
      "Root index 1\n",
      "-7*(x - 1)*x^6\n",
      "Max Index 33\n"
     ]
    }
   ],
   "source": [
    "OptimalityChecker(\"graph_data/unicyclic7.g6\", \"graph_data/CRelUnicyclic7.txt\")"
   ]
  },
  {
   "cell_type": "code",
   "execution_count": 6,
   "metadata": {
    "scrolled": true
   },
   "outputs": [
    {
     "name": "stdout",
     "output_type": "stream",
     "text": [
      "More investigation required:\n",
      "-3*(x - 1)*x^7 + x^8\n",
      "Root index 1\n",
      "-8*(x - 1)*x^7\n",
      "Max Index 89\n"
     ]
    }
   ],
   "source": [
    "OptimalityChecker(\"graph_data/unicyclic8.g6\", \"graph_data/CRelUnicyclic8.txt\")"
   ]
  },
  {
   "cell_type": "code",
   "execution_count": 7,
   "metadata": {},
   "outputs": [
    {
     "name": "stdout",
     "output_type": "stream",
     "text": [
      "More investigation required:\n",
      "-3*(x - 1)*x^8 + x^9\n",
      "Root index 1\n",
      "-9*(x - 1)*x^8\n",
      "Max Index 240\n"
     ]
    }
   ],
   "source": [
    "OptimalityChecker(\"graph_data/unicyclic9.g6\", \"graph_data/CRelUnicyclic9.txt\")"
   ]
  },
  {
   "cell_type": "code",
   "execution_count": 8,
   "metadata": {},
   "outputs": [
    {
     "data": {
      "image/png": "[encoded data removed]",
      "text/plain": [
       "Graphics object consisting of 10 graphics primitives"
      ]
     },
     "metadata": {},
     "output_type": "display_data"
    },
    {
     "name": "stdout",
     "output_type": "stream",
     "text": [
      "8*(x - 1)^2*x^3 - 4*(x - 1)*x^4 + x^5\n"
     ]
    }
   ],
   "source": [
    "k = \"4\"\n",
    "OptimalityChecker(\"graph_data/bicyclic\" + k + \"c.g6\", \"graph_data/CRelBicyclic\"+ k + \".txt\")"
   ]
  },
  {
   "cell_type": "code",
   "execution_count": 9,
   "metadata": {},
   "outputs": [
    {
     "name": "stdout",
     "output_type": "stream",
     "text": [
      "More investigation required:\n",
      "12*(x - 1)^2*x^4\n",
      "Root index 2\n",
      "9*(x - 1)^2*x^4 - 6*(x - 1)*x^5 + x^6\n",
      "Max Index 3\n"
     ]
    }
   ],
   "source": [
    "k = \"5\"\n",
    "OptimalityChecker(\"graph_data/bicyclic\" + k + \"c.g6\", \"graph_data/CRelBicyclic\"+ k + \".txt\")"
   ]
  },
  {
   "cell_type": "code",
   "execution_count": 10,
   "metadata": {},
   "outputs": [
    {
     "name": "stdout",
     "output_type": "stream",
     "text": [
      "More investigation required:\n",
      "8*(x - 1)^2*x^5 - 4*(x - 1)*x^6 + x^7\n",
      "Root index 1\n",
      "14*(x - 1)^2*x^5 - 4*(x - 1)*x^6\n",
      "Max Index 15\n"
     ]
    }
   ],
   "source": [
    "k = \"6\"\n",
    "OptimalityChecker(\"graph_data/bicyclic\" + k + \"c.g6\", \"graph_data/CRelBicyclic\"+ k + \".txt\")"
   ]
  },
  {
   "cell_type": "code",
   "execution_count": 11,
   "metadata": {
    "scrolled": true
   },
   "outputs": [
    {
     "name": "stdout",
     "output_type": "stream",
     "text": [
      "More investigation required:\n",
      "8*(x - 1)^2*x^6 - 4*(x - 1)*x^7 + x^8\n",
      "Root index 1\n",
      "17*(x - 1)^2*x^6 - 5*(x - 1)*x^7\n",
      "Max Index 55\n"
     ]
    }
   ],
   "source": [
    "k = \"7\"\n",
    "OptimalityChecker(\"graph_data/bicyclic\" + k + \"c.g6\", \"graph_data/CRelBicyclic\"+ k + \".txt\")"
   ]
  },
  {
   "cell_type": "code",
   "execution_count": 12,
   "metadata": {},
   "outputs": [
    {
     "name": "stdout",
     "output_type": "stream",
     "text": [
      "More investigation required:\n",
      "-20*(x - 1)^3*x^4 + 12*(x - 1)^2*x^5 - 6*(x - 1)*x^6 + x^7\n",
      "Root index 1\n",
      "-21*(x - 1)^3*x^4 + 14*(x - 1)^2*x^5 - 5*(x - 1)*x^6 + x^7\n",
      "Max Index 2\n"
     ]
    }
   ],
   "source": [
    "k = \"5\"\n",
    "OptimalityChecker(\"graph_data/tricyclic\" + k + \"c.g6\", \"graph_data/CRelTricyclic\"+ k + \".txt\")"
   ]
  },
  {
   "cell_type": "code",
   "execution_count": 13,
   "metadata": {},
   "outputs": [
    {
     "name": "stdout",
     "output_type": "stream",
     "text": [
      "More investigation required:\n",
      "-32*(x - 1)^3*x^5\n",
      "Root index 2\n",
      "-24*(x - 1)^3*x^5 + 20*(x - 1)^2*x^6 - 7*(x - 1)*x^7 + x^8\n",
      "Max Index 4\n"
     ]
    }
   ],
   "source": [
    "k = \"6\"\n",
    "OptimalityChecker(\"graph_data/tricyclic\" + k + \"c.g6\", \"graph_data/CRelTricyclic\"+ k + \".txt\")"
   ]
  },
  {
   "cell_type": "code",
   "execution_count": 14,
   "metadata": {},
   "outputs": [
    {
     "name": "stdout",
     "output_type": "stream",
     "text": [
      "More investigation required:\n",
      "-32*(x - 1)^3*x^6\n",
      "Root index 2\n",
      "-27*(x - 1)^3*x^6 + 27*(x - 1)^2*x^7 - 9*(x - 1)*x^8 + x^9\n",
      "Max Index 50\n"
     ]
    }
   ],
   "source": [
    "k = \"7\"\n",
    "OptimalityChecker(\"graph_data/tricyclic\" + k + \"c.g6\", \"graph_data/CRelTricyclic\"+ k + \".txt\")"
   ]
  },
  {
   "cell_type": "code",
   "execution_count": 15,
   "metadata": {},
   "outputs": [
    {
     "name": "stdout",
     "output_type": "stream",
     "text": [
      "More investigation required:\n",
      "45*(x - 1)^4*x^4 - 32*(x - 1)^3*x^5 + 14*(x - 1)^2*x^6 - 4*(x - 1)*x^7 + x^8\n",
      "Root index 2\n",
      "40*(x - 1)^4*x^4 - 34*(x - 1)^3*x^5 + 20*(x - 1)^2*x^6 - 7*(x - 1)*x^7 + x^8\n",
      "Max Index 1\n"
     ]
    }
   ],
   "source": [
    "k = \"5\"\n",
    "OptimalityChecker(\"graph_data/quadcyclic\" + k + \"c.g6\", \"graph_data/CRelQuadcyclic\"+ k + \".txt\")"
   ]
  },
  {
   "cell_type": "code",
   "execution_count": 16,
   "metadata": {},
   "outputs": [
    {
     "name": "stdout",
     "output_type": "stream",
     "text": [
      "More investigation required:\n",
      "52*(x - 1)^4*x^5 - 40*(x - 1)^3*x^6 + 21*(x - 1)^2*x^7 - 7*(x - 1)*x^8 + x^9\n",
      "Root index 2\n",
      "48*(x - 1)^4*x^5 - 52*(x - 1)^3*x^6 + 30*(x - 1)^2*x^7 - 9*(x - 1)*x^8 + x^9\n",
      "Max Index 14\n"
     ]
    }
   ],
   "source": [
    "k = \"6\"\n",
    "OptimalityChecker(\"graph_data/quadcyclic\" + k + \"c.g6\", \"graph_data/CRelQuadcyclic\"+ k + \".txt\")"
   ]
  },
  {
   "cell_type": "code",
   "execution_count": 17,
   "metadata": {},
   "outputs": [
    {
     "name": "stdout",
     "output_type": "stream",
     "text": [
      "More investigation required:\n",
      "48*(x - 1)^4*x^6 - 32*(x - 1)^3*x^7 + 24*(x - 1)^2*x^8 - 8*(x - 1)*x^9 + x^10\n",
      "Root index 1\n",
      "88*(x - 1)^4*x^6 - 62*(x - 1)^3*x^7 + 18*(x - 1)^2*x^8 - 2*(x - 1)*x^9\n",
      "Max Index 94\n"
     ]
    }
   ],
   "source": [
    "k = \"7\"\n",
    "OptimalityChecker(\"graph_data/quadcyclic\" + k + \"c.g6\", \"graph_data/CRelQuadcyclic\"+ k + \".txt\")"
   ]
  },
  {
   "cell_type": "code",
   "execution_count": null,
   "metadata": {},
   "outputs": [],
   "source": []
  }
 ],
 "metadata": {
  "kernelspec": {
   "display_name": "SageMath 9.2",
   "language": "sage",
   "name": "sagemath"
  },
  "language_info": {
   "codemirror_mode": {
    "name": "ipython",
    "version": 3
   },
   "file_extension": ".py",
   "mimetype": "text/x-python",
   "name": "python",
   "nbconvert_exporter": "python",
   "pygments_lexer": "ipython3",
   "version": "3.7.7"
  }
 },
 "nbformat": 4,
 "nbformat_minor": 2
}
