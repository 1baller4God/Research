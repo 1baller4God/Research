{
 "cells": [
  {
   "cell_type": "code",
   "execution_count": 3,
   "id": "1654a138",
   "metadata": {},
   "outputs": [
    {
     "name": "stdout",
     "output_type": "stream",
     "text": [
      "Output files created: /users/ugrad/cbury/Summer_Research/graph difference/graph input/78562 out.g6 and /users/ugrad/cbury/Summer_Research/graph difference/graph input/78564 out.g6\n"
     ]
    }
   ],
   "source": [
    "import tkinter as tk\n",
    "from tkinter import filedialog\n",
    "import os\n",
    "\n",
    "def select_input_files():\n",
    "    root = tk.Tk()\n",
    "    root.withdraw()\n",
    "    file_A = filedialog.askopenfilename(title=\"Select File A\")\n",
    "    file_B = filedialog.askopenfilename(title=\"Select File B\")\n",
    "    return file_A, file_B\n",
    "\n",
    "def select_output_directory():\n",
    "    root = tk.Tk()\n",
    "    root.withdraw()\n",
    "    output_directory = filedialog.askdirectory(title=\"Select Output Directory\")\n",
    "    return output_directory\n",
    "\n",
    "def generate_output_file_name(input_file):\n",
    "    file_name, file_ext = os.path.splitext(input_file)\n",
    "    return file_name + \" out\" + file_ext\n",
    "\n",
    "def find_lines_not_in_other():\n",
    "    file_A, file_B = select_input_files()\n",
    "    if not file_A or not file_B:\n",
    "        print(\"Input files not selected.\")\n",
    "        return\n",
    "\n",
    "    output_directory = select_output_directory()\n",
    "    if not output_directory:\n",
    "        print(\"Output directory not selected.\")\n",
    "        return\n",
    "\n",
    "    output_file_name_A2 = generate_output_file_name(file_A)\n",
    "    \n",
    "    \n",
    "    output_file_A2 = os.path.join(output_directory, generate_output_file_name(file_A))\n",
    "    output_file_B2 = os.path.join(output_directory, generate_output_file_name(file_B))\n",
    "\n",
    "    lines_A_not_in_B = []\n",
    "    lines_B_not_in_A = []\n",
    "\n",
    "    with open(file_A, 'r') as file_A:\n",
    "        with open(file_B, 'r') as file_B:\n",
    "            lines_A = file_A.readlines()\n",
    "            lines_B = file_B.readlines()\n",
    "\n",
    "            for line in lines_A:\n",
    "                if line not in lines_B:\n",
    "                    lines_A_not_in_B.append(line)\n",
    "\n",
    "            for line in lines_B:\n",
    "                if line not in lines_A:\n",
    "                    lines_B_not_in_A.append(line)\n",
    "\n",
    "    with open(output_file_A2, 'w') as file_A2:\n",
    "        file_A2.writelines(lines_A_not_in_B)\n",
    "\n",
    "    with open(output_file_B2, 'w') as file_B2:\n",
    "        file_B2.writelines(lines_B_not_in_A)\n",
    "\n",
    "    print(f\"Output files created: {output_file_A2} and {output_file_B2}\")\n",
    "\n",
    "# Example usage:\n",
    "find_lines_not_in_other()"
   ]
  },
  {
   "cell_type": "code",
   "execution_count": null,
   "id": "28cb1e0c",
   "metadata": {},
   "outputs": [],
   "source": []
  }
 ],
 "metadata": {
  "kernelspec": {
   "display_name": "Python 3 (ipykernel)",
   "language": "python",
   "name": "python3"
  },
  "language_info": {
   "codemirror_mode": {
    "name": "ipython",
    "version": 3
   },
   "file_extension": ".py",
   "mimetype": "text/x-python",
   "name": "python",
   "nbconvert_exporter": "python",
   "pygments_lexer": "ipython3",
   "version": "3.10.6"
  }
 },
 "nbformat": 4,
 "nbformat_minor": 5
}
