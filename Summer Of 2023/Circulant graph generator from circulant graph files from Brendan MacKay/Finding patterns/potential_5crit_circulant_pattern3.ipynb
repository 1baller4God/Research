{
 "cells": [
  {
   "cell_type": "code",
   "execution_count": 1,
   "metadata": {},
   "outputs": [],
   "source": [
    "# THRID PATTERN FOUND (2, (p-3) 1s, 3, (p-3) 1s, 2)\n",
    "# This worksheet is to play around with the new (potential) infinite family of 5-vert-critical circulant graphs \n",
    "# Melvin Adekanye and Ben Cameron found by mining Brendan McKay's circulant graph data.\n",
    "# The sheet is very rough and care should be taken when testing for sub_search != None and sub_search == None\n",
    "#\n",
    "#\n",
    "\n",
    "def circulant(n, L):\n",
    "\n",
    "    E = []\n",
    "\n",
    "    for i in range(n):\n",
    "\n",
    "        for j in range(i+1, n):\n",
    "\n",
    "            if(((i-j) % n) in L):\n",
    "\n",
    "                if({i, j} not in E):\n",
    "\n",
    "                    E.append({i, j})\n",
    "\n",
    "    # Return the graph\n",
    "    return E\n",
    "from sage.graphs.graph_coloring import vertex_coloring\n",
    "def is_kcrit(G,k):\n",
    "    V = G.vertices()\n",
    "    chi = G.chromatic_number()\n",
    "    if(chi != k):\n",
    "        return False\n",
    "    \n",
    "    for v in V:\n",
    "        H = Graph(G) #creates local copy of G so we can delete vertices and maintain G's structure\n",
    "        H.delete_vertex(v)\n",
    "        if vertex_coloring(H, k=k-1, value_only=True) == False:\n",
    "            return False\n",
    "    return True"
   ]
  },
  {
   "cell_type": "code",
   "execution_count": 4,
   "metadata": {},
   "outputs": [],
   "source": [
    "# need p>=4.\n",
    "# returns the list of parameters (PATTERN 3) for a circulant graph on 4p+1 vertices that always appears to be 5-critical.\n",
    "def potential_list2(p):\n",
    "    return [p] + [i for i in range(p+2, 2*p)] + [2*p+2] + [i for i in range(2*p+3, 3*p)] +[3*p+1]"
   ]
  },
  {
   "cell_type": "code",
   "execution_count": 5,
   "metadata": {},
   "outputs": [
    {
     "name": "stdout",
     "output_type": "stream",
     "text": [
      "[4, 6, 7, 10, 11, 13]\n",
      "[5, 7, 8, 9, 12, 13, 14, 16]\n",
      "[6, 8, 9, 10, 11, 14, 15, 16, 17, 19]\n",
      "[7, 9, 10, 11, 12, 13, 16, 17, 18, 19, 20, 22]\n"
     ]
    }
   ],
   "source": [
    "for i in range(4,8):\n",
    "    print(potential_list2(i))"
   ]
  },
  {
   "cell_type": "code",
   "execution_count": 6,
   "metadata": {},
   "outputs": [
    {
     "name": "stdout",
     "output_type": "stream",
     "text": [
      "True\n",
      "True\n",
      "True\n",
      "True\n",
      "True\n",
      "True\n",
      "True\n",
      "True\n"
     ]
    }
   ],
   "source": [
    "for p in range(4,12):\n",
    "    G = Graph(circulant(4*p+1,potential_list2(p)))\n",
    "    print(is_kcrit(G,5))"
   ]
  },
  {
   "cell_type": "code",
   "execution_count": null,
   "metadata": {},
   "outputs": [],
   "source": []
  }
 ],
 "metadata": {
  "kernelspec": {
   "display_name": "SageMath 9.2",
   "language": "sage",
   "name": "sagemath"
  },
  "language_info": {
   "codemirror_mode": {
    "name": "ipython",
    "version": 3
   },
   "file_extension": ".py",
   "mimetype": "text/x-python",
   "name": "python",
   "nbconvert_exporter": "python",
   "pygments_lexer": "ipython3",
   "version": "3.7.7"
  }
 },
 "nbformat": 4,
 "nbformat_minor": 4
}
